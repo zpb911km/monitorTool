{
 "cells": [
  {
   "cell_type": "code",
   "execution_count": 1,
   "metadata": {},
   "outputs": [],
   "source": [
    "# 简直拉跨，否了\n",
    "import requests\n",
    "header = {\n",
    "    'Accept': 'text/html',\n",
    "    'Accept-Encoding': 'utf-8',\n",
    "    'Accept-Language': 'zh-CN,zh;q=0.9,en;q=0.8,en-GB;q=0.7,en-US;q=0.6',\n",
    "    'Connection': 'keep-alive',\n",
    "    'Cookie': '',\n",
    "    'DNT': '1',\n",
    "    'Host': '219.216.96.4',\n",
    "    'Upgrade-Insecure-Requests': '1',\n",
    "    'User-Agent': 'Mozilla/5.0 (Windows NT 10.0; Win64; x64) AppleWebKit/537.36 (KHTML, like Gecko) Chrome/131.0.0.0 Safari/537.36 Edg/131.0.0.0'\n",
    "}\n",
    "response = requests.get('https://pass.neu.edu.cn/')\n",
    "content=response.content\n",
    "print(content)"
   ]
  },
  {
   "cell_type": "code",
   "execution_count": 2,
   "metadata": {},
   "outputs": [
    {
     "name": "stdout",
     "output_type": "stream",
     "text": [
      "['第一节', nan, '商务数据管理与信息系统 (A077810)  (俞竹超)  (10-17 1号A302(浑南校区))', '大学英语㈢ (A080963)  (刘红)  (3-16 1号B611-语音室(浑南校区))', '信息管理专业概论 (A077901)  (樊治平)  (1-8 1号B111(浑南校区))  组织行为学 (A078002)  (王艳梅)  (10-17 信息A101(浑南校区))', '商务数据管理与信息系统 (A077810)  (俞竹超)  (10-17 1号A302(浑南校区))', nan, nan]\n",
      "['第二节', nan, '商务数据管理与信息系统 (A077810)  (俞竹超)  (10-17 1号A302(浑南校区))', '大学英语㈢ (A080963)  (刘红)  (3-16 1号B611-语音室(浑南校区))', '信息管理专业概论 (A077901)  (樊治平)  (1-8 1号B111(浑南校区))  组织行为学 (A078002)  (王艳梅)  (10-17 信息A101(浑南校区))', '商务数据管理与信息系统 (A077810)  (俞竹超)  (10-17 1号A302(浑南校区))', nan, nan]\n",
      "['第三节', nan, '体育(三) (A082079)  (王儒轩)  (3-14 )', '概率论与数理统计 (A077899)  (张驰)  (1-16 文管A227(浑南校区))', '数据库应用开发技术 (A077900)  (许博)  (1-6 1号A204(浑南校区))', '概率论与数理统计 (A077899)  (张驰)  (1-8,10-13 文管A129(浑南校区))', '大学英语㈢ (A080963)  (刘红)  (3-8,10-17 1号B111(浑南校区))', nan]\n",
      "['第四节', nan, '体育(三) (A082079)  (王儒轩)  (3-14 )', '概率论与数理统计 (A077899)  (张驰)  (1-16 文管A227(浑南校区))', '数据库应用开发技术 (A077900)  (许博)  (1-6 1号A204(浑南校区))', '概率论与数理统计 (A077899)  (张驰)  (1-8,10-13 文管A129(浑南校区))', '大学英语㈢ (A080963)  (刘红)  (3-8,10-17 1号B111(浑南校区))', nan]\n",
      "['第五节', nan, '习近平新时代中国特色社会主义思想概论 (A077953)  (曹洪滔,姜耀东)  (1-8 建筑A302(浑南校区))', '心理学 (A078000)  (贾建锋)  (1-8 建筑A402(浑南校区))', nan, '习近平新时代中国特色社会主义思想概论 (A077953)  (曹洪滔,姜耀东)  (1-8 建筑A402(浑南校区))', '数据库应用开发技术 (A077900)  (许博)  (1-6 1号A204(浑南校区))  组织行为学 (A078002)  (王艳梅)  (10-17 信息A101(浑南校区))', nan]\n",
      "['第六节', nan, '习近平新时代中国特色社会主义思想概论 (A077953)  (曹洪滔,姜耀东)  (1-8 建筑A302(浑南校区))', '心理学 (A078000)  (贾建锋)  (1-8 建筑A402(浑南校区))', nan, '习近平新时代中国特色社会主义思想概论 (A077953)  (曹洪滔,姜耀东)  (1-8 建筑A402(浑南校区))', '数据库应用开发技术 (A077900)  (许博)  (1-6 1号A204(浑南校区))  组织行为学 (A078002)  (王艳梅)  (10-17 信息A101(浑南校区))', nan]\n",
      "['第七节', nan, '微观经济学 (A078048)  (张彦博)  (1-8 1号A107(浑南校区))', '马克思主义基本原理 (A078025)  (韩雪冰)  (1-16 建筑A402(浑南校区))', nan, '心理学 (A078000)  (贾建锋)  (1-8 建筑A302(浑南校区))', nan, nan]\n",
      "['第八节', nan, '微观经济学 (A078048)  (张彦博)  (1-8 1号A107(浑南校区))', '马克思主义基本原理 (A078025)  (韩雪冰)  (1-16 建筑A402(浑南校区))', nan, '心理学 (A078000)  (贾建锋)  (1-8 建筑A302(浑南校区))', nan, nan]\n",
      "['第九节', nan, nan, nan, '商务数据分析：Excel、Tableau与Matlab (A077889)  (李伟伟)  (1-8,10-11 1号A103(浑南校区))  商务数据管理与信息系统 (A077810)  (俞竹超)  (12-13 1号B409-微机室(浑南校区))', '商务数据分析：Excel、Tableau与Matlab (A077889)  (李伟伟)  (1-8,10-11 1号A201(浑南校区))', '微观经济学 (A078048)  (张彦博)  (1-8 1号A104(浑南校区))  商务数据管理与信息系统 (A077810)  (俞竹超)  (14-17 1号A302(浑南校区))', nan]\n",
      "['第十节', nan, nan, nan, '商务数据分析：Excel、Tableau与Matlab (A077889)  (李伟伟)  (1-8,10-11 1号A103(浑南校区))  商务数据管理与信息系统 (A077810)  (俞竹超)  (12-13 1号B409-微机室(浑南校区))', '商务数据分析：Excel、Tableau与Matlab (A077889)  (李伟伟)  (1-8,10-11 1号A201(浑南校区))', '微观经济学 (A078048)  (张彦博)  (1-8 1号A104(浑南校区))  商务数据管理与信息系统 (A077810)  (俞竹超)  (14-17 1号A302(浑南校区))', nan]\n",
      "['第十一节', nan, nan, nan, '商务数据分析：Excel、Tableau与Matlab (A077889)  (李伟伟)  (1-8,10-11 1号A103(浑南校区))  商务数据管理与信息系统 (A077810)  (俞竹超)  (12-13 1号B409-微机室(浑南校区))', nan, nan, nan]\n",
      "['第十二节', nan, nan, nan, '商务数据分析：Excel、Tableau与Matlab (A077889)  (李伟伟)  (1-8,10-11 1号A103(浑南校区))  商务数据管理与信息系统 (A077810)  (俞竹超)  (12-13 1号B409-微机室(浑南校区))', nan, nan, nan]\n"
     ]
    }
   ],
   "source": [
    "import pandas as pd\n",
    "\n",
    "course_list = pd.read_html(open(r'files\\aaa.xls', 'r', encoding='utf-8').read())[-2].values.tolist()\n",
    "\n",
    "for course in course_list:\n",
    "    print(course)"
   ]
  },
  {
   "cell_type": "code",
   "execution_count": 1,
   "metadata": {},
   "outputs": [
    {
     "data": {
      "text/plain": [
       "(221, b'Bye')"
      ]
     },
     "execution_count": 1,
     "metadata": {},
     "output_type": "execute_result"
    }
   ],
   "source": [
    "import smtplib\n",
    "from email.mime.text import MIMEText\n",
    "from email.header import Header\n",
    "\n",
    "mail_info = open('data\\mail_key', 'r', encoding='utf-8').read().split('\\n')\n",
    "from_addr = mail_info[0]\n",
    "password = mail_info[1]\n",
    "to_addr = '20231162@stu.neu.edu.cn'\n",
    "smtp_server = mail_info[2]\n",
    "\n",
    "head=\"hhh\"\n",
    "text=\"dsjakfl;dshajgjdkahuiuiicxzhv\"\n",
    "\n",
    "msg = MIMEText(text,'plain','utf-8')\n",
    " \n",
    "# 邮件头信息\n",
    "msg['From'] = Header(from_addr)\n",
    "msg['To'] = Header(to_addr)\n",
    "msg['Subject'] = Header(head)\n",
    " \n",
    "# 开启发信服务，这里使用的是加密传输\n",
    "server=smtplib.SMTP_SSL(smtp_server)\n",
    "server.connect(smtp_server,465)\n",
    "server.login(from_addr, password)\n",
    "server.sendmail(from_addr, to_addr, msg.as_string())\n",
    "server.quit()"
   ]
  },
  {
   "cell_type": "code",
   "execution_count": null,
   "metadata": {},
   "outputs": [],
   "source": []
  }
 ],
 "metadata": {
  "kernelspec": {
   "display_name": "Python 3",
   "language": "python",
   "name": "python3"
  },
  "language_info": {
   "codemirror_mode": {
    "name": "ipython",
    "version": 3
   },
   "file_extension": ".py",
   "mimetype": "text/x-python",
   "name": "python",
   "nbconvert_exporter": "python",
   "pygments_lexer": "ipython3",
   "version": "3.11.4"
  }
 },
 "nbformat": 4,
 "nbformat_minor": 2
}
